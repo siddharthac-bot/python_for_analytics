{
 "cells": [
  {
   "cell_type": "markdown",
   "metadata": {},
   "source": [
    "## Assignment 1\n",
    "* Due 1/31 by 5pm\n",
    "* Topics: containers, udfs, comprehensions, error handling"
   ]
  },
  {
   "cell_type": "markdown",
   "metadata": {},
   "source": [
    "## Instructions\n",
    "* Rename this notebook with your NAME_LASTNAME_ASSIGN_1\n",
    "* Finish the test on this notebook\n",
    "* Download your notebook as a PDF\n",
    "* Turn in both the notebook and PDF (in my case I would get two files RAFAEL_VESCOVI_ASSIGN_1.pdf and RAFAEL_VESCOVI_ASSIGN_1.ipynb)\n",
    "* Show the output of your code working on the sample data, like below.  \n",
    "* If techniques are specified, use them.  Otherwise, feel free to solve the problem how you want.  \n",
    "* Try to keep your code clean, concise and avoid loops if necessary.  \n",
    "* You have to show your work (code).\n",
    "* You will be graded:\n",
    "    * The functionality of your code (Does it do what it was meant to)\n",
    "    * Showing the output on the sample data provided\n",
    "    * How concise it is (did you use a for loop when you could have used a comprehension for instance).  Simply put, try and write clean, concise and readable code (don't use 10 lines for what could have been done in 4).\n",
    "    * Even if the answer isn't perfect, make an honest attempt as partial credit will be given.\n",
    "* you should not have to explicitly use  a for loop except for question 12, meaning it is possible to complete the entire assignment without using the keyword \"for\".\n",
    "* the only third party functions/modules you are allowed to use are permutations and combinations from itertools.  yes, there is a built in median function in numpy, but the idea is to program yourself and solve the problems on your own using basic python techniques"
   ]
  },
  {
   "cell_type": "markdown",
   "metadata": {},
   "source": [
    "## Sample Question\n",
    "* Create a UDF that adds 2 to a number"
   ]
  },
  {
   "cell_type": "code",
   "execution_count": 3,
   "metadata": {},
   "outputs": [],
   "source": [
    "a = 5"
   ]
  },
  {
   "cell_type": "code",
   "execution_count": 4,
   "metadata": {},
   "outputs": [
    {
     "name": "stdout",
     "output_type": "stream",
     "text": [
      "7\n"
     ]
    }
   ],
   "source": [
    "def add_func(x):\n",
    "    return(x+2)\n",
    "\n",
    "number = add_func(a)\n",
    "print(number)"
   ]
  },
  {
   "cell_type": "markdown",
   "metadata": {},
   "source": [
    "### Question 1\n",
    "* Create a function that takes 2 lists as params, of equal length and does the following:\n",
    "    * returns a dictionary where the keys are the first list and the values are the second list\n",
    "    * make use of zip and comprehension to make the dictionary\n",
    "    * if the lists are not of equal length, use error handling to indicate the mismatch"
   ]
  },
  {
   "cell_type": "code",
   "execution_count": null,
   "metadata": {},
   "outputs": [],
   "source": [
    "# a = [5,7]\n",
    "# b = [\"x\", \"z\"]\n",
    "# return {5:\"x\", 7:\"z\"}"
   ]
  },
  {
   "cell_type": "code",
   "execution_count": null,
   "metadata": {},
   "outputs": [],
   "source": [
    "a = [1,2,3,4,5,6,7,8]\n",
    "b = [\"a\",\"b\",\"c\",\"d\",\"e\",\"f\",\"g\",\"h\"]"
   ]
  },
  {
   "cell_type": "markdown",
   "metadata": {},
   "source": [
    "### Question 2\n",
    "* Create a UDF that takes a list and returns the permutations and combinations (length 2) as nested lists, along with the number of permutations and combinations.  \n",
    "* The function should return 4 things"
   ]
  },
  {
   "cell_type": "code",
   "execution_count": 2,
   "metadata": {},
   "outputs": [],
   "source": [
    "a = [1,2,3,4,5]"
   ]
  },
  {
   "cell_type": "markdown",
   "metadata": {},
   "source": [
    "### Question 3\n",
    "* Map a function to the below list that\n",
    "    * returns the remainder of each number divided by 3 (52/3 = 17 with a remainder of 1, we want the 1 to be returned)\n",
    "    * use lambdas for the mapping\n",
    "    * hint, look at modulus (%) in python"
   ]
  },
  {
   "cell_type": "code",
   "execution_count": 1,
   "metadata": {},
   "outputs": [],
   "source": [
    "lst = list(range(100))"
   ]
  },
  {
   "cell_type": "markdown",
   "metadata": {},
   "source": [
    "### Question 4\n",
    "* Using comprehension, replace the keys in the list with their value in the dictionary\n",
    "* example below"
   ]
  },
  {
   "cell_type": "code",
   "execution_count": null,
   "metadata": {},
   "outputs": [],
   "source": [
    "# lst = [1,2]\n",
    "# dict = {1:\"a\", 2:\"b\"}\n",
    "# new_lst = [\"a\",\"b\"]"
   ]
  },
  {
   "cell_type": "code",
   "execution_count": 4,
   "metadata": {},
   "outputs": [],
   "source": [
    "a = list(range(5))\n",
    "dct = {\n",
    "    0:\"a\",\n",
    "    1:\"b\",\n",
    "    2:\"c\",\n",
    "    3:\"d\",\n",
    "    4:\"e\"\n",
    "}"
   ]
  },
  {
   "cell_type": "markdown",
   "metadata": {},
   "source": [
    "### Question 5\n",
    "* Make a UDF that takes a variable amount of numbers and returns a list with the numbers having been squared\n",
    "* use comprehension to perform the squaring of each item\n",
    "* hint, this should be doable in one line using args"
   ]
  },
  {
   "cell_type": "code",
   "execution_count": null,
   "metadata": {},
   "outputs": [],
   "source": [
    "# my_func(1,2,3)\n",
    "    # do some stuff\n",
    "    \n",
    "# return_lst = [1,4,9]"
   ]
  },
  {
   "cell_type": "code",
   "execution_count": null,
   "metadata": {},
   "outputs": [],
   "source": [
    "# for this pass in the numberse 1,2,3"
   ]
  },
  {
   "cell_type": "markdown",
   "metadata": {},
   "source": [
    "### Question 6\n",
    "* Make a UDF that takes two lists as params and returns a list of the intersecting items (items that appear in both lists)"
   ]
  },
  {
   "cell_type": "code",
   "execution_count": null,
   "metadata": {},
   "outputs": [],
   "source": [
    "# a = [1,2]\n",
    "# b = [2,3]\n",
    "# return_lst = [2]"
   ]
  },
  {
   "cell_type": "code",
   "execution_count": null,
   "metadata": {},
   "outputs": [],
   "source": [
    "a = [1,2,3,4,5,6,7]\n",
    "b = [2,3,4,6,8,10,11,21]"
   ]
  },
  {
   "cell_type": "markdown",
   "metadata": {},
   "source": [
    "### Question 7\n",
    "* write a function that takes a list of numbers and filters for odds only\n",
    "* use the filter method and a lambda as the function"
   ]
  },
  {
   "cell_type": "code",
   "execution_count": 5,
   "metadata": {},
   "outputs": [],
   "source": [
    "# my_lst = [1,2]\n",
    "# new_lst = [1]"
   ]
  },
  {
   "cell_type": "code",
   "execution_count": null,
   "metadata": {},
   "outputs": [],
   "source": [
    "a = [1,2,3,4,5,6,7,8,9,10,11,12,13,14,15]"
   ]
  },
  {
   "cell_type": "markdown",
   "metadata": {},
   "source": [
    "### Question 8\n",
    "* Write a function (lambda or not) that returns the absolute value of a number and adds 2\n",
    "* Use the function to map it to a list comprehension"
   ]
  },
  {
   "cell_type": "code",
   "execution_count": 12,
   "metadata": {},
   "outputs": [],
   "source": [
    "# my_lst = [1,-2,1]\n",
    "# using a comprehension return [3,4,3]"
   ]
  },
  {
   "cell_type": "code",
   "execution_count": null,
   "metadata": {},
   "outputs": [],
   "source": [
    "a = [1,-2,1,8,-10,15,-12]"
   ]
  },
  {
   "cell_type": "markdown",
   "metadata": {},
   "source": [
    "### Question 9\n",
    "* write a function that takes 2 lists and finds the euclidean distance between then\n",
    "* note you may not use any third party modules.  use  comprehensions"
   ]
  },
  {
   "cell_type": "code",
   "execution_count": null,
   "metadata": {},
   "outputs": [],
   "source": [
    "# a = [1,2]\n",
    "# b = [3,1]\n",
    "# distance = ~2.23"
   ]
  },
  {
   "cell_type": "code",
   "execution_count": null,
   "metadata": {},
   "outputs": [],
   "source": [
    "a = [1,2,3,4,1]\n",
    "b = [3,1,2,4,3]"
   ]
  },
  {
   "cell_type": "markdown",
   "metadata": {},
   "source": [
    "### Question 10\n",
    "* write a function that takes a list, sorts it and finds the middle value.  \n",
    "* use error handling to check the list is odd in length\n",
    "* if it's even, return an error message\n",
    "* feel free to use a try/except or assert\n",
    "* show the output run on both lists"
   ]
  },
  {
   "cell_type": "code",
   "execution_count": null,
   "metadata": {},
   "outputs": [],
   "source": [
    "# a = [4,6,1]\n",
    "# sort = [1,4,6]\n",
    "# middle val = 4\n",
    "# if even number in size, return error"
   ]
  },
  {
   "cell_type": "code",
   "execution_count": 3,
   "metadata": {},
   "outputs": [],
   "source": [
    "a = [4,6,1,3,12,41,4,1,24,12,17]\n",
    "b = [4,6,1,3,12,41,4,1,24,12]"
   ]
  },
  {
   "cell_type": "markdown",
   "metadata": {},
   "source": [
    "### Question 11\n",
    "* Make a generator that parses the list of transaction data\n",
    "* Put the contents in a dictionary where the key is the user id and the value is the list of items the user has purchased\n",
    "* note the transactions are pipe ( | ) delimtied, meaning you'll have to use some string manipulations to get the values from each transaction\n",
    "* make sure to skip the header somehow"
   ]
  },
  {
   "cell_type": "code",
   "execution_count": null,
   "metadata": {},
   "outputs": [],
   "source": [
    "# transactions = [A, item_a], [A, item_b]\n",
    "# dict = {A:[item_a, item_b]}"
   ]
  },
  {
   "cell_type": "code",
   "execution_count": null,
   "metadata": {},
   "outputs": [],
   "source": [
    "transactions = [\n",
    "    [\"user_id|item_id\"],\n",
    "    [\"A|item_a\"],\n",
    "    [\"B|item_a\"],\n",
    "    [\"C|item_a\"],\n",
    "    [\"C|item_b\"],\n",
    "    [\"C|item_c\"],\n",
    "    [\"B|item_c\"],\n",
    "    [\"D|item_b\"],\n",
    "    [\"D|item_b\"]\n",
    "]"
   ]
  },
  {
   "cell_type": "markdown",
   "metadata": {},
   "source": [
    "### Question 12\n",
    "* Make a function that takes 2 lists of equal length and returns a True when the values in a given index are the same in both lists and a false if they are not.\n",
    "* Use error handling of some kind if the lists are not of equal length."
   ]
  },
  {
   "cell_type": "code",
   "execution_count": 2,
   "metadata": {},
   "outputs": [],
   "source": [
    "# should return [True, True, True, False, False]\n",
    "a = [1,2,3,4,5]\n",
    "b = [1,2,3,5,6]"
   ]
  },
  {
   "cell_type": "markdown",
   "metadata": {},
   "source": [
    "### Question 13\n",
    "Briefly explain the use of the following words in python:\n",
    "* assert\n",
    "* raise\n",
    "* yield\n",
    "* def\n",
    "* lambda\n",
    "* return\n",
    "* map\n",
    "* filter\n",
    "* try\n",
    "* except\n",
    "* continue\n",
    "* pass\n",
    "* break\n",
    "* while\n",
    "* do (in the context of a while loop)\n",
    "* for"
   ]
  },
  {
   "cell_type": "markdown",
   "metadata": {},
   "source": [
    "### Question 14\n",
    "Briefly describe the below:\n",
    "* list\n",
    "* tuple\n",
    "* dictionary\n",
    "* set"
   ]
  },
  {
   "cell_type": "markdown",
   "metadata": {},
   "source": [
    "### Question 15\n",
    "* What two datatypes can be declared with { }?\n",
    "* What two datatypes can be declared with ( )?\n",
    "* Provide examples of each of the 4 above."
   ]
  },
  {
   "cell_type": "markdown",
   "metadata": {},
   "source": [
    "### Question 16\n",
    "Describe what a generator is and how it differs from a list or tuple."
   ]
  },
  {
   "cell_type": "markdown",
   "metadata": {},
   "source": [
    "## Question 17 \n",
    "Show three ways of attaching a list to itself (one of then should use the function append) . \n"
   ]
  },
  {
   "cell_type": "code",
   "execution_count": null,
   "metadata": {},
   "outputs": [],
   "source": []
  }
 ],
 "metadata": {
  "kernelspec": {
   "display_name": "Python 3",
   "language": "python",
   "name": "python3"
  },
  "language_info": {
   "codemirror_mode": {
    "name": "ipython",
    "version": 3
   },
   "file_extension": ".py",
   "mimetype": "text/x-python",
   "name": "python",
   "nbconvert_exporter": "python",
   "pygments_lexer": "ipython3",
   "version": "3.7.4"
  }
 },
 "nbformat": 4,
 "nbformat_minor": 2
}
